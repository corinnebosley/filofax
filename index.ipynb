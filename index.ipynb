{
 "cells": [
  {
   "cell_type": "code",
   "execution_count": null,
   "metadata": {
    "collapsed": false
   },
   "outputs": [],
   "source": [
    "import cube_browser.browse\n"
   ]
  },
  {
   "cell_type": "code",
   "execution_count": null,
   "metadata": {
    "collapsed": false
   },
   "outputs": [],
   "source": [
    "print(cube_browser.browse.load_button.cubes)"
   ]
  },
  {
   "cell_type": "code",
   "execution_count": null,
   "metadata": {
    "collapsed": false
   },
   "outputs": [],
   "source": [
    "import ipywidgets\n",
    "print ipywidgets.__version__"
   ]
  },
  {
   "cell_type": "code",
   "execution_count": null,
   "metadata": {
    "collapsed": true
   },
   "outputs": [],
   "source": []
  }
 ],
 "metadata": {
  "kernelspec": {
   "display_name": "Python 2",
   "language": "python",
   "name": "python2"
  },
  "language_info": {
   "codemirror_mode": {
    "name": "ipython",
    "version": 2
   },
   "file_extension": ".py",
   "mimetype": "text/x-python",
   "name": "python",
   "nbconvert_exporter": "python",
   "pygments_lexer": "ipython2",
   "version": "2.7.11"
  },
  "widgets": {
   "state": {
    "0360c41354d041389da9fee89964fdf9": {
     "views": []
    },
    "037cd2484da54dffbf2f9765f7db2e59": {
     "views": []
    },
    "05f10016b6ce46b7a5401d1ad6a07bb8": {
     "views": []
    },
    "06a04e9e04d44ad6b391fd2640217b89": {
     "views": []
    },
    "072c620249984dd593404b625a5e41ee": {
     "views": []
    },
    "08a64a72135d4c099867cbbca3e465e8": {
     "views": []
    },
    "0b024b8bf5824937ab12249d4b196639": {
     "views": []
    },
    "0d0f90bebabe47e9878837fae608d97f": {
     "views": []
    },
    "0f77c39567564331828ee433926f366b": {
     "views": []
    },
    "152e9d5809e442cdba18d539cce59cc9": {
     "views": []
    },
    "19e84068d0834d8282c8ef5a06dcffef": {
     "views": []
    },
    "1eab710b329d4c0b934b125101119f01": {
     "views": []
    },
    "22ecf40972354d389ba1bd346e44d1ea": {
     "views": []
    },
    "232057617a5a42edb28091930434af00": {
     "views": []
    },
    "240133e87d1240c98b75e8791099ba0d": {
     "views": []
    },
    "25a56e027add49b98e9e2c92bc055cac": {
     "views": []
    },
    "25fe61591e004589a597222821799253": {
     "views": []
    },
    "27f901be0d0b40919f4f0cc863f9bf2e": {
     "views": []
    },
    "2886611b6a094e2daf9a4576c8e190b4": {
     "views": []
    },
    "28b84c880b6d44eb88a419955c73de1d": {
     "views": []
    },
    "2a6ac6a70d254880a75c4fbcdf81189f": {
     "views": []
    },
    "2b4e0aa66bd142b496ff9c028dc9820f": {
     "views": []
    },
    "2fa9ebd4be5d4541a0c1148aca0b7a6a": {
     "views": []
    },
    "31ff96bb9e3c462185eb5e5f9e726a66": {
     "views": []
    },
    "35ae06ab494240139b6742e42484dcee": {
     "views": []
    },
    "36442285c4804657a12802622ab307c6": {
     "views": []
    },
    "3a82f10d34a44d7cbd34ea406222aa22": {
     "views": []
    },
    "3af4e031fe50416199413083cfc41307": {
     "views": []
    },
    "3c3e4e6d8c40488b913501a0b45d8b8a": {
     "views": []
    },
    "3e994d5816734459a0dde3621bb4ebb8": {
     "views": []
    },
    "4235c83ca8c2499a95169ceec7833d86": {
     "views": []
    },
    "43ac9aaa13d44406a70c4f02d68bf2c0": {
     "views": []
    },
    "44b42a83490d4364b437dff0786c76c0": {
     "views": []
    },
    "4866b55429334ca68148d60dba8aab7d": {
     "views": []
    },
    "48f1cf1938ea42c4b7dfde5f03a791c9": {
     "views": []
    },
    "497fd03b5406472e8485b334f9dba935": {
     "views": []
    },
    "4aedc50c18e94cba8cce08ec7630140b": {
     "views": []
    },
    "4ebd472f9c334c9498a241dd3221ddd3": {
     "views": [
      {
       "cell_index": 0
      }
     ]
    },
    "51645ff0aca740aaa8beaafc1c7e4186": {
     "views": []
    },
    "529f8c4ea1a646e0a14c2b4357fa6d7b": {
     "views": [
      {
       "cell_index": 0
      }
     ]
    },
    "52d82586f5064ce49345b657a5004e46": {
     "views": []
    },
    "53491e5003424076abb4d3e4f24a8bc2": {
     "views": []
    },
    "53f95d0bf8ab494eadd6f37f44b4e3c6": {
     "views": []
    },
    "546b81e4058840bbb12aef485ae77dbd": {
     "views": []
    },
    "58198801824542f796326980d98c560f": {
     "views": []
    },
    "58a51ce7d5b44e0f9ee9b261ca759d61": {
     "views": []
    },
    "5b35653d9dcb42ae8c1875c8f258d992": {
     "views": []
    },
    "5b3ba9f6f50b43f3862fcf9ece060616": {
     "views": []
    },
    "5f870c44d0ce4b1880a30712d0f06c39": {
     "views": []
    },
    "5feb39c2a9904a8798ce74a03665b4fc": {
     "views": []
    },
    "63d0841b8c2c4b94af1f7a6d0161c827": {
     "views": []
    },
    "679d2df271374e728302a0069b96a6d8": {
     "views": []
    },
    "67ab183769654bcca3734a3ee4b4968a": {
     "views": []
    },
    "67e0e662437240ecb01f1305be6f5b8d": {
     "views": []
    },
    "687db969a4be4260829c8b00942e358a": {
     "views": []
    },
    "6ac9d6a4279a40bdbf3268cbb81f3e41": {
     "views": []
    },
    "6c64eaec2d7d4d57b68c2bf97f5e4218": {
     "views": [
      {
       "cell_index": 0
      }
     ]
    },
    "6c66fc1f9b294e1db2a4077d55b8314c": {
     "views": []
    },
    "6ca27e24ac804b639ff36d67b5716607": {
     "views": []
    },
    "6d8fb3140307404cba81f9840c5104b2": {
     "views": []
    },
    "6e3e3d9231cf4b24ba4786db84bcf495": {
     "views": []
    },
    "7002745bef374a0097609ac14fe97a8f": {
     "views": []
    },
    "70074b7eedc74ef2aa4acbdd6e866cba": {
     "views": []
    },
    "7221a088dd3f4ac5bb345e4843a7c926": {
     "views": []
    },
    "731fbc4b22184f6a8e11a6ca4ea79519": {
     "views": []
    },
    "75fc79ccf55449c293bb7840dca270f5": {
     "views": []
    },
    "77de97b6f5d340ebae8e9af96cf31bc4": {
     "views": []
    },
    "7c611aaf945744e1b92b08a5e8f00095": {
     "views": []
    },
    "805cc3bac7a04222a0def2e166a06ca5": {
     "views": []
    },
    "82db270b48554597b2c79d05f9853613": {
     "views": []
    },
    "83c1d190dd9643d1907860ffa4019620": {
     "views": []
    },
    "83e9838015ca41bcbeed69b9144c872d": {
     "views": []
    },
    "87578c9550e640ab84b0a3d46f592f01": {
     "views": []
    },
    "87d77a25b31c45d3a35f76f1c96d8ee4": {
     "views": []
    },
    "889f0209d93441a3888b834639d6185c": {
     "views": []
    },
    "8907b6b93c1e4c8aabab0cfa8f8bbad8": {
     "views": []
    },
    "8a3f98c6b81044ac88bf12df462127eb": {
     "views": []
    },
    "8ab5f2a30d6a48e490944a3eccc97f2c": {
     "views": []
    },
    "8ba0c3517e19426d89888ce2639f055e": {
     "views": []
    },
    "8d138649dcc34ab4a656c5aa93663651": {
     "views": []
    },
    "8f9a27da53f34130b74bafb9ea067a7b": {
     "views": []
    },
    "914865f64ba54e159f4fcaf1221329e4": {
     "views": []
    },
    "95c4a16743f84d8bad5dd413ce1919c7": {
     "views": []
    },
    "9708178c06d34f0a842a3ade802c9d93": {
     "views": []
    },
    "971d60d4d875436ea9a4544fdf2cd8e3": {
     "views": []
    },
    "97dad216f21443f087e9d9d0b70c94d6": {
     "views": []
    },
    "9933a05bc6b64479b6a04d42bfed29bd": {
     "views": []
    },
    "9db21cad7c8d4b2a946218e489367631": {
     "views": []
    },
    "9ec787d7b75b4276aaaaeea6a15ddca7": {
     "views": []
    },
    "9f3ed9aefd364ad081213396c2732846": {
     "views": []
    },
    "a109de379c304a3ba91218e353cbd324": {
     "views": []
    },
    "a27bdac84d244bfab66c4edc8c5c54b0": {
     "views": []
    },
    "a2827767268142218cda5abd689248d2": {
     "views": []
    },
    "a2963cceb73c448992b9934b8b95476e": {
     "views": []
    },
    "a3690fb5f36c455abcf3be9536a0497e": {
     "views": []
    },
    "a42da9721a0e40e4bf80e88cb8def60e": {
     "views": []
    },
    "a53052aa042d47b384d36e74f6c2c289": {
     "views": []
    },
    "aa6ea7b00a934e779c1bebd8242270c2": {
     "views": []
    },
    "abb5afec1c3c4f6ab56c16b6bd815766": {
     "views": []
    },
    "ac7b7aaccd74442bb294b8470f6c9c37": {
     "views": []
    },
    "ac97bd305851455491ada8131389136f": {
     "views": []
    },
    "ad54403ac2224b09aa17acb3ff650ba9": {
     "views": []
    },
    "adc34c23273d4aceb9bae92ee4c177fc": {
     "views": []
    },
    "aeaff44a5667469b8ef3a11c9d662cf5": {
     "views": []
    },
    "b147983206db48bf802357247d09ab2b": {
     "views": []
    },
    "b1786e5e5ddb409f8d93f5fdf0d448aa": {
     "views": []
    },
    "b3eefe4dccec43c2958279dd191ec408": {
     "views": []
    },
    "b4af94db8ecc4b319ffc820e4230feea": {
     "views": []
    },
    "b6525097ab7e4d0997787a5454a792c3": {
     "views": []
    },
    "b6d5b1d20e004c10a66443212dc827c2": {
     "views": []
    },
    "b7b76b94494742a4af72edd08d76d59d": {
     "views": [
      {
       "cell_index": 0
      }
     ]
    },
    "b89b17856f4d41c0a21f466c4f43e75d": {
     "views": []
    },
    "b97fbbec9db74c8b809558f0bd75c80c": {
     "views": []
    },
    "be42052d332e406dab627528f85937fc": {
     "views": []
    },
    "bf8623f97e4f4a95960f0912e1bff5cb": {
     "views": []
    },
    "c06285acf92b4f278023681de52a55fd": {
     "views": []
    },
    "c172402ee4da47eeb24bdaa02122a5a7": {
     "views": []
    },
    "c484a961821e4a2883bac0875ee902c8": {
     "views": []
    },
    "c658ff732c874bc4b46c714742c9c614": {
     "views": []
    },
    "c6fea2a1f3994fc0851d7220c74a71b3": {
     "views": []
    },
    "c7a54951ab51418083c69e79082dc375": {
     "views": []
    },
    "c9478583ede542a4ba9af0c7cef61fcb": {
     "views": []
    },
    "c9c5e1e92d094134affd24a1aa31736e": {
     "views": []
    },
    "cd93ce4f15d34f7aba453161e887a19f": {
     "views": [
      {
       "cell_index": 0
      }
     ]
    },
    "ce858b9bcfe0406a952a83f33b482445": {
     "views": []
    },
    "cfddb4012b994d4aaed140327c553ed1": {
     "views": []
    },
    "d513adfa7c0a470d9d62f4aeae16ee74": {
     "views": []
    },
    "d53549cef74848608ec82cb5f11ac719": {
     "views": []
    },
    "d607f12b640e4af6a42ae91be4369a93": {
     "views": []
    },
    "d95129f3ea3d488cb49a6d898d29effc": {
     "views": []
    },
    "da393f01b7a6459aa76514e092a112fe": {
     "views": [
      {
       "cell_index": 0
      }
     ]
    },
    "daa02f4c6eb1482db23f6129455b8a80": {
     "views": []
    },
    "dae8a912bd9c4cdfac2808d1abf07619": {
     "views": []
    },
    "db5a54b051e04c4ba06a74e66d2e5b75": {
     "views": []
    },
    "dca58da6fe21409980b1c34af01d61c3": {
     "views": []
    },
    "df4db77c81764d1a811ace9a3f2a0980": {
     "views": []
    },
    "e06b7d0cc4444c11924093fdb638faae": {
     "views": []
    },
    "e13f54d1a28548859653aa9dfafb5462": {
     "views": []
    },
    "e55702a7870e4488a32ce1207912c2a3": {
     "views": []
    },
    "e5bcd4f872b64d61acd784d1d3c84ac5": {
     "views": []
    },
    "e6adbcf266244290ba487d7d33ace374": {
     "views": []
    },
    "e6c8a34415dd40fc80bf97444d132d94": {
     "views": [
      {
       "cell_index": 0
      }
     ]
    },
    "e6e620ec9e7b4a61af61182c0925691e": {
     "views": []
    },
    "e8474fad5abf4537b73e9901cd2d7e6c": {
     "views": []
    },
    "e8645d77bc5f41a0acd11114619088fe": {
     "views": []
    },
    "e9cf7858eefc4959b803e34a86e9e4d4": {
     "views": []
    },
    "ea0aa6823fde4512ba6b967bc1a4c594": {
     "views": []
    },
    "ea2ebc10d6fa41178fde4110e6d9b5bf": {
     "views": []
    },
    "eab25d5e0bef45a588315512cb981a9b": {
     "views": []
    },
    "eb8e28dfc9f642dab745877a97c56772": {
     "views": []
    },
    "ecc31471c46543bda7fb778ef2e11fdc": {
     "views": []
    },
    "eed6d9df8c42448aadfa8125d6697798": {
     "views": []
    },
    "f0c00647cd314787a2f12e4ce8bf2ec8": {
     "views": []
    },
    "f2e03b4ef3af44528f584a5e2d03586a": {
     "views": []
    },
    "f314b1b91efc46a2bfdc44d1ab1a528e": {
     "views": []
    },
    "f38680509abe448984c3ab8c46fbd48f": {
     "views": []
    },
    "f548a56627af4f96a0b663147dcac497": {
     "views": []
    },
    "f72e2da5332a4e14a6ea5420540b84d5": {
     "views": []
    },
    "f82af612e4f340859d5c7b7f677f1d05": {
     "views": []
    },
    "fa0af90a15a14dbfae67637543967388": {
     "views": []
    },
    "fc1b5d8151aa47e5a0695db6a8ed0a7e": {
     "views": []
    },
    "fde156ac4584410b9edf9174bfbf0da9": {
     "views": []
    },
    "ff7e7d223c11426f94961a6d16c5aa58": {
     "views": []
    },
    "fff549a7837d4cd79ad02eab6c975a34": {
     "views": []
    }
   },
   "version": "1.1.1"
  }
 },
 "nbformat": 4,
 "nbformat_minor": 0
}
